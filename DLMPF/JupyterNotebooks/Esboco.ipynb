{
 "cells": [
  {
   "cell_type": "code",
   "execution_count": 1,
   "id": "56e41097",
   "metadata": {},
   "outputs": [
    {
     "name": "stdout",
     "output_type": "stream",
     "text": [
      "OK\n"
     ]
    }
   ],
   "source": [
    "from docplex.mp.model import Model\n",
    "\n",
    "def sucesso():\n",
    "    print(\"OK\")\n",
    "    \n",
    "sucesso()"
   ]
  },
  {
   "cell_type": "code",
   "execution_count": 2,
   "id": "22cc3fb5",
   "metadata": {
    "scrolled": true
   },
   "outputs": [
    {
     "name": "stdout",
     "output_type": "stream",
     "text": [
      "[1] [1, 2] [0, 1, 2] [1, 2] [1] [1, 2]\n",
      "OK\n"
     ]
    }
   ],
   "source": [
    "model = Model(name = \"Modelo DLMPF\")\n",
    "\n",
    "# Número de linhas, itens, períodos e recursos\n",
    "\n",
    "P = 1\n",
    "R = 2\n",
    "T = 2 \n",
    "L = 2\n",
    "\n",
    "CONJ_P_itens = list(range(1,P+1))\n",
    "CONJ_R_rec = list(range(1,R+1))\n",
    "CONJ_T_per = list(range(0,T+1))\n",
    "CONJ_L_lin = list(range(1,L+1))\n",
    "\n",
    "CONJ_Pr_it_rec = CONJ_P_itens #por hora, mudar isso depois!\n",
    "CONJ_Li_lin_it = CONJ_L_lin #por hora, mudar isso depois!\n",
    "\n",
    "print(CONJ_P_itens, CONJ_R_rec, CONJ_T_per, CONJ_L_lin, CONJ_Pr_it_rec, CONJ_Li_lin_it)\n",
    "\n",
    "\n",
    "sucesso()"
   ]
  },
  {
   "cell_type": "code",
   "execution_count": 3,
   "id": "212d4b2d",
   "metadata": {},
   "outputs": [
    {
     "name": "stdout",
     "output_type": "stream",
     "text": [
      "[1200, 600] [600, 300] [[6, 3], [6, 6]] [[5, 2], [3, 4]]\n",
      "OK\n"
     ]
    }
   ],
   "source": [
    "# Capacidades\n",
    "\n",
    "Cr = [1200, 600]\n",
    "Cd = [600, 300]\n",
    "Ch = [[6, 3],[6,6]]\n",
    "p = [[5,2], [3,4]]\n",
    "        \n",
    "print(Cr, Cd, Ch, p)\n",
    "sucesso()"
   ]
  },
  {
   "cell_type": "code",
   "execution_count": 4,
   "id": "5bb53e87",
   "metadata": {},
   "outputs": [
    {
     "name": "stdout",
     "output_type": "stream",
     "text": [
      "240 20 [480] [2] [0] 0\n",
      "OK\n"
     ]
    }
   ],
   "source": [
    "# Demandas\n",
    "\n",
    "Q = 240\n",
    "q = 20\n",
    "d = [480]\n",
    "d_num_lotes = [2]\n",
    "d_tam_residual = [0]  \n",
    "\n",
    "# Penalidade\n",
    "\n",
    "H = 0\n",
    "\n",
    "print(Q, q, d, d_num_lotes, d_tam_residual, H)\n",
    "sucesso()"
   ]
  },
  {
   "cell_type": "markdown",
   "id": "536bd9e3",
   "metadata": {},
   "source": [
    "As variáveis de decisão são: xikt, yikt, zikt e wikt, sendo: \n",
    "\n",
    "x uma variável inteira que representa o número de lotes de tamanho Q\n",
    "y uma variável binária que indica se houver produção do residual de demanda d\n",
    "z uma variável binária que indica se houver fracionamento do lote do tipo de item i\n",
    "w uma variável interia da quantidade do tipo de item i na linha k"
   ]
  },
  {
   "cell_type": "code",
   "execution_count": 5,
   "id": "05f81ec1",
   "metadata": {},
   "outputs": [
    {
     "name": "stdout",
     "output_type": "stream",
     "text": [
      "OK\n"
     ]
    }
   ],
   "source": [
    "# Variáveis de decisão\n",
    "\n",
    "x = {}\n",
    "y = {}\n",
    "z = {}\n",
    "w = {}\n",
    "\n",
    "x = model.integer_var_cube(keys1=range(1,P+1), keys2=range(1,L+1), keys3=range(0,T+1), name='X')\n",
    "y = model.binary_var_cube(keys1=range(1,P+1), keys2=range(1,L+1), keys3=range(0,T+1), name='Y')\n",
    "w = model.integer_var_cube(keys1=range(1,P+1), keys2=range(1,L+1), keys3=range(0,T+1), name='W')\n",
    "z = model.binary_var_cube(keys1=range(1,P+1), keys2=range(1,L+1), keys3=range(0,T+1), name='Z')\n",
    "\n",
    "sucesso()"
   ]
  },
  {
   "cell_type": "code",
   "execution_count": 6,
   "id": "76091119",
   "metadata": {
    "scrolled": true
   },
   "outputs": [
    {
     "name": "stdout",
     "output_type": "stream",
     "text": [
      "OK\n"
     ]
    }
   ],
   "source": [
    "# Restrição 2\n",
    "for i in CONJ_P_itens:\n",
    "    model.add_constraint(model.sum(Q * x[i,k,t] + d_num_lotes[i-1] * y[i,k,t] for k in CONJ_L_lin for t in CONJ_T_per) == d[i-1], ctname = 'R2')\n",
    "\n",
    "# Restrição 3\n",
    "\n",
    "for i in CONJ_P_itens:\n",
    "    model.add_constraint(model.sum(x[i,k,t] for k in range(1,L+1) for t in range(T+1)) == d_tam_residual[i-1], ctname = 'R3')\n",
    "    \n",
    "# Restrição 4\n",
    "\n",
    "for i in CONJ_P_itens:\n",
    "    model.add_constraint(model.sum(y[i, k, t] for k in range(1,L+1) for t in range(T+1)) <= 1, ctname = 'R4')\n",
    "\n",
    "# Restrição 5\n",
    "\n",
    "for i in CONJ_P_itens:\n",
    "    for k in CONJ_L_lin:\n",
    "        for t in CONJ_T_per:\n",
    "            model.add_constraint(w[i, k, t] <= Q * x[i, k, t] + d_num_lotes[i-1] * y[i, k, t], ctname = 'R5')\n",
    "\n",
    "# Restrição 6\n",
    "\n",
    "for i in CONJ_P_itens:\n",
    "    for k in CONJ_L_lin:\n",
    "        for t in CONJ_T_per:\n",
    "            model.add_constraint(w[i, k, t] <= (Q - q) * z[i,k,t], ctname = 'R6')\n",
    "            \n",
    "# Restrição 7\n",
    "\n",
    "for i in CONJ_P_itens:\n",
    "    for k in CONJ_L_lin:\n",
    "        for t in CONJ_T_per:\n",
    "            model.add_constraint(q * z[i,k,t] <= w[i,k,t], ctname = 'R7')\n",
    "            \n",
    "# Restrição 8\n",
    "for k in CONJ_L_lin:\n",
    "        for t in CONJ_T_per:\n",
    "            model.add_constraint(model.sum(z[i,k,t] for i in CONJ_P_itens)<=1, ctname = 'R8')\n",
    "            \n",
    "# Restrição 9\n",
    "\n",
    "for r in CONJ_R_rec:\n",
    "    model.add_constraint(model.sum(Q * x[i,k,t] + d_num_lotes[i-1] * y[i,k,t] for i in range(1,P+1) for k in range(1,L+1) for t in range(T+1)) <= Cr[r-1], ctname = \"R9\")\n",
    "\n",
    "# Restrição 10\n",
    "\n",
    "for r in CONJ_R_rec:\n",
    "    for t in CONJ_T_per:\n",
    "        if t != 0:\n",
    "            model.add_constraint(model.sum(Q * x[i,k,t] + d_num_lotes[i-1] * y[i,k,t] + w[i, k, t-1] - w[i,k,t] for i in range (1,P+1) for k in range(1,L+1)) <= Cd[r-1], ctname = \"R1-\")\n",
    "        else:\n",
    "            model.add_constraint(model.sum(Q * x[i,k,t] + d_num_lotes[i-1] * y[i,k,t] + 0 - w[i,k,t] for i in range (1,P+1) for k in range(1,L+1)) <= Cd[r-1], ctname = \"R10\")\n",
    "\n",
    "# Restrição 11\n",
    "\n",
    "for k in CONJ_L_lin:\n",
    "    for t in CONJ_T_per:\n",
    "        if t!=0:\n",
    "            model.add_constraint(model.sum(p[i-1][k-1] * (Q * x[i,k,t] + (d[i-1] % Q) * y[i,k,t] + w[i,k,t-1] - w[i,k,t]) for i in CONJ_P_itens) <= Ch[k-1][t-1], ctname = 'R11')\n",
    "\n",
    "# Restrição 12\n",
    "\n",
    "for i in CONJ_P_itens:\n",
    "    for k in CONJ_L_lin:\n",
    "        model.add_constraint(w[i,k,0] == 0, ctname = 'R12')\n",
    "        \n",
    "# Restrição 13\n",
    "        \n",
    "for i in CONJ_P_itens:\n",
    "    for k in CONJ_L_lin:\n",
    "        model.add_constraint(w[i,k,T] == 0, ctname = 'R13')\n",
    "\n",
    "        \n",
    "#Restrição 14\n",
    "for i in CONJ_P_itens:\n",
    "    for k in CONJ_L_lin:\n",
    "        for t in CONJ_T_per:\n",
    "            model.add_constraint(0<=w[i,k,t], ctname = 'R14.1')\n",
    "            model.add_constraint(w[i,k,t]<= Q - q, ctname = 'R14.2')\n",
    "\n",
    "            \n",
    "sucesso()"
   ]
  },
  {
   "cell_type": "code",
   "execution_count": 7,
   "id": "0912b0ec",
   "metadata": {},
   "outputs": [
    {
     "name": "stdout",
     "output_type": "stream",
     "text": [
      "OK\n"
     ]
    }
   ],
   "source": [
    "objetivo = model.sum(\n",
    "    p[i][k] * Q * x[i, k, t] + p[i][k] * (d[i-1] % Q) * y[i, k, t] + z[i, k, t] \n",
    "    for i in CONJ_P_itens \n",
    "    for k in CONJ_L_lin \n",
    "    for t in CONJ_T_per \n",
    "    if t > 0 and i in p and k in p[i])\n",
    "\n",
    "model.minimize(objetivo)\n",
    "\n",
    "sucesso()"
   ]
  },
  {
   "cell_type": "code",
   "execution_count": 8,
   "id": "2091790e",
   "metadata": {},
   "outputs": [],
   "source": [
    "#Perguntar somatório função objetivo\n",
    "#Perguntar listas x dicionários\n",
    "#Perguntar uns tipo tempo de processamento"
   ]
  },
  {
   "cell_type": "code",
   "execution_count": 9,
   "id": "534b2d63",
   "metadata": {},
   "outputs": [
    {
     "name": "stdout",
     "output_type": "stream",
     "text": [
      "\\ This file has been generated by DOcplex\n",
      "\\ ENCODING=ISO-8859-1\n",
      "\\Problem name: Modelo DLMPF\n",
      "\n",
      "Minimize\n",
      " obj:\n",
      "Subject To\n",
      " R2: 240 X_1_1_0 + 240 X_1_1_1 + 240 X_1_1_2 + 240 X_1_2_0 + 240 X_1_2_1\n",
      "     + 240 X_1_2_2 + 2 Y_1_1_0 + 2 Y_1_1_1 + 2 Y_1_1_2 + 2 Y_1_2_0 + 2 Y_1_2_1\n",
      "     + 2 Y_1_2_2 = 480\n",
      " R3: X_1_1_0 + X_1_1_1 + X_1_1_2 + X_1_2_0 + X_1_2_1 + X_1_2_2 = 0\n",
      " R4: Y_1_1_0 + Y_1_1_1 + Y_1_1_2 + Y_1_2_0 + Y_1_2_1 + Y_1_2_2 <= 1\n",
      " R5: W_1_1_0 - 240 X_1_1_0 - 2 Y_1_1_0 <= 0\n",
      " R5#4: W_1_1_1 - 240 X_1_1_1 - 2 Y_1_1_1 <= 0\n",
      " R5#5: W_1_1_2 - 240 X_1_1_2 - 2 Y_1_1_2 <= 0\n",
      " R5#6: W_1_2_0 - 240 X_1_2_0 - 2 Y_1_2_0 <= 0\n",
      " R5#7: W_1_2_1 - 240 X_1_2_1 - 2 Y_1_2_1 <= 0\n",
      " R5#8: W_1_2_2 - 240 X_1_2_2 - 2 Y_1_2_2 <= 0\n",
      " R6: W_1_1_0 - 220 Z_1_1_0 <= 0\n",
      " R6#10: W_1_1_1 - 220 Z_1_1_1 <= 0\n",
      " R6#11: W_1_1_2 - 220 Z_1_1_2 <= 0\n",
      " R6#12: W_1_2_0 - 220 Z_1_2_0 <= 0\n",
      " R6#13: W_1_2_1 - 220 Z_1_2_1 <= 0\n",
      " R6#14: W_1_2_2 - 220 Z_1_2_2 <= 0\n",
      " R7: 20 Z_1_1_0 - W_1_1_0 <= 0\n",
      " R7#16: 20 Z_1_1_1 - W_1_1_1 <= 0\n",
      " R7#17: 20 Z_1_1_2 - W_1_1_2 <= 0\n",
      " R7#18: 20 Z_1_2_0 - W_1_2_0 <= 0\n",
      " R7#19: 20 Z_1_2_1 - W_1_2_1 <= 0\n",
      " R7#20: 20 Z_1_2_2 - W_1_2_2 <= 0\n",
      " R8: Z_1_1_0 <= 1\n",
      " R8#22: Z_1_1_1 <= 1\n",
      " R8#23: Z_1_1_2 <= 1\n",
      " R8#24: Z_1_2_0 <= 1\n",
      " R8#25: Z_1_2_1 <= 1\n",
      " R8#26: Z_1_2_2 <= 1\n",
      " R9: 240 X_1_1_0 + 240 X_1_1_1 + 240 X_1_1_2 + 240 X_1_2_0 + 240 X_1_2_1\n",
      "     + 240 X_1_2_2 + 2 Y_1_1_0 + 2 Y_1_1_1 + 2 Y_1_1_2 + 2 Y_1_2_0 + 2 Y_1_2_1\n",
      "     + 2 Y_1_2_2 <= 1200\n",
      " R9#28: 240 X_1_1_0 + 240 X_1_1_1 + 240 X_1_1_2 + 240 X_1_2_0 + 240 X_1_2_1\n",
      "        + 240 X_1_2_2 + 2 Y_1_1_0 + 2 Y_1_1_1 + 2 Y_1_1_2 + 2 Y_1_2_0\n",
      "        + 2 Y_1_2_1 + 2 Y_1_2_2 <= 600\n",
      " R10: 240 X_1_1_0 + 240 X_1_2_0 + 2 Y_1_1_0 + 2 Y_1_2_0 - W_1_1_0 - W_1_2_0 <= \n",
      "      600\n",
      " R1m: 240 X_1_1_1 + 240 X_1_2_1 + 2 Y_1_1_1 + 2 Y_1_2_1 + W_1_1_0 - W_1_1_1\n",
      "      + W_1_2_0 - W_1_2_1 <= 600\n",
      " R1m#31: 240 X_1_1_2 + 240 X_1_2_2 + 2 Y_1_1_2 + 2 Y_1_2_2 + W_1_1_1 - W_1_1_2\n",
      "         + W_1_2_1 - W_1_2_2 <= 600\n",
      " R10#32: 240 X_1_1_0 + 240 X_1_2_0 + 2 Y_1_1_0 + 2 Y_1_2_0 - W_1_1_0 - W_1_2_0\n",
      "          <= 300\n",
      " R1m#33: 240 X_1_1_1 + 240 X_1_2_1 + 2 Y_1_1_1 + 2 Y_1_2_1 + W_1_1_0 - W_1_1_1\n",
      "         + W_1_2_0 - W_1_2_1 <= 300\n",
      " R1m#34: 240 X_1_1_2 + 240 X_1_2_2 + 2 Y_1_1_2 + 2 Y_1_2_2 + W_1_1_1 - W_1_1_2\n",
      "         + W_1_2_1 - W_1_2_2 <= 300\n",
      " R11: 1200 X_1_1_1 + 5 W_1_1_0 - 5 W_1_1_1 <= 6\n",
      " R11#36: 1200 X_1_1_2 + 5 W_1_1_1 - 5 W_1_1_2 <= 3\n",
      " R11#37: 480 X_1_2_1 + 2 W_1_2_0 - 2 W_1_2_1 <= 6\n",
      " R11#38: 480 X_1_2_2 + 2 W_1_2_1 - 2 W_1_2_2 <= 6\n",
      " R12: W_1_1_0 = 0\n",
      " R12#40: W_1_2_0 = 0\n",
      " R13: W_1_1_2 = 0\n",
      " R13#42: W_1_2_2 = 0\n",
      " R14.1: W_1_1_0 >= 0\n",
      " R14.2: W_1_1_0 <= 220\n",
      " R14.1#45: W_1_1_1 >= 0\n",
      " R14.2#46: W_1_1_1 <= 220\n",
      " R14.1#47: W_1_1_2 >= 0\n",
      " R14.2#48: W_1_1_2 <= 220\n",
      " R14.1#49: W_1_2_0 >= 0\n",
      " R14.2#50: W_1_2_0 <= 220\n",
      " R14.1#51: W_1_2_1 >= 0\n",
      " R14.2#52: W_1_2_1 <= 220\n",
      " R14.1#53: W_1_2_2 >= 0\n",
      " R14.2#54: W_1_2_2 <= 220\n",
      "\n",
      "Bounds\n",
      " 0 <= Y_1_1_0 <= 1\n",
      " 0 <= Y_1_1_1 <= 1\n",
      " 0 <= Y_1_1_2 <= 1\n",
      " 0 <= Y_1_2_0 <= 1\n",
      " 0 <= Y_1_2_1 <= 1\n",
      " 0 <= Y_1_2_2 <= 1\n",
      " 0 <= Z_1_1_0 <= 1\n",
      " 0 <= Z_1_1_1 <= 1\n",
      " 0 <= Z_1_1_2 <= 1\n",
      " 0 <= Z_1_2_0 <= 1\n",
      " 0 <= Z_1_2_1 <= 1\n",
      " 0 <= Z_1_2_2 <= 1\n",
      "\n",
      "Binaries\n",
      " Y_1_1_0 Y_1_1_1 Y_1_1_2 Y_1_2_0 Y_1_2_1 Y_1_2_2 Z_1_1_0 Z_1_1_1 Z_1_1_2 Z_1_2_0\n",
      " Z_1_2_1 Z_1_2_2\n",
      "\n",
      "Generals\n",
      " X_1_1_0 X_1_1_1 X_1_1_2 X_1_2_0 X_1_2_1 X_1_2_2 W_1_1_0 W_1_1_1 W_1_1_2 W_1_2_0\n",
      " W_1_2_1 W_1_2_2\n",
      "End\n",
      "\n"
     ]
    }
   ],
   "source": [
    "print(model.export_as_lp_string())"
   ]
  },
  {
   "cell_type": "code",
   "execution_count": 11,
   "id": "94917c09",
   "metadata": {},
   "outputs": [
    {
     "name": "stdout",
     "output_type": "stream",
     "text": [
      "None\n"
     ]
    }
   ],
   "source": [
    "sol = model.solve()\n",
    "print(sol)"
   ]
  },
  {
   "cell_type": "code",
   "execution_count": null,
   "id": "3aa3974e",
   "metadata": {},
   "outputs": [],
   "source": []
  }
 ],
 "metadata": {
  "kernelspec": {
   "display_name": "Python 3 (ipykernel)",
   "language": "python",
   "name": "python3"
  },
  "language_info": {
   "codemirror_mode": {
    "name": "ipython",
    "version": 3
   },
   "file_extension": ".py",
   "mimetype": "text/x-python",
   "name": "python",
   "nbconvert_exporter": "python",
   "pygments_lexer": "ipython3",
   "version": "3.10.12"
  }
 },
 "nbformat": 4,
 "nbformat_minor": 5
}
