{
 "cells": [
  {
   "cell_type": "code",
   "execution_count": 1,
   "id": "1fc4d7b6-0a8a-47eb-b051-7f2f7371f430",
   "metadata": {},
   "outputs": [
    {
     "name": "stdout",
     "output_type": "stream",
     "text": [
      "linhas: \n",
      "[2, 2, 2, 2, 2, 2, 2, 2, 2, 2, 2, 3, 2, 2, 2, 2, 2, 2, 2, 1, 1, 1, 1, 2, 1, 1, 1, 1, 1, 1, 1, 1, 1, 1, 1, 1, 1, 1, 1, 1, 1, 1, 1, 1, 1, 1, 1, 1, 1, 1, 1, 1, 1, 1, 1, 1, 1, 1, 1, 1, 1, 1, 2, 3, 1, 1, 2, 3, 1, 1, 2, 3, 1, 2, 3, 1, 2, 3, 1, 3, 1, 1, 1, 3, 1, 4, 4, 4, 4, 4, 4, 4, 4, 4, 4, 4, 4, 4, 4, 4, 4, 4, 4, 4, 4, 4, 4, 4, 4, 4, 4, 4, 4, 4, 4, 4, 4, 4, 4, 4, 4, 4, 4, 4, 4, 4, 4, 4, 4, 4, 4, 4, 4, 4, 4, 4, 4, 4, 4, 4, 4, 4, 4, 4, 4, 4, 4, 4, 4, 4, 4, 4, 4, 4, 4, 4, 4, 4, 4, 4, 4, 4, 4, 4, 5, 5, 5, 5, 5, 5, 5, 5, 5, 5, 5, 5, 5, 5, 5, 5, 5, 5, 5, 5, 5, 5, 5, 5, 5, 5, 5, 5, 5, 5, 5, 5, 5, 5, 5, 5, 5, 5, 5, 5, 5, 5, 6, 6, 6, 6, 6, 6, 6, 6, 6]\n",
      "\n",
      "\n",
      "\n",
      "itens: \n",
      "[1, 2, 3, 4, 5, 6, 7, 8, 9, 10, 11, 11, 12, 13, 14, 15, 16, 17, 18, 19, 20, 21, 22, 22, 23, 24, 25, 26, 27, 28, 29, 30, 31, 32, 33, 34, 35, 36, 37, 38, 39, 40, 41, 42, 43, 44, 45, 46, 47, 48, 49, 50, 51, 52, 53, 54, 55, 56, 57, 58, 59, 60, 60, 60, 61, 62, 62, 62, 63, 64, 64, 64, 65, 65, 65, 66, 66, 66, 67, 67, 68, 69, 70, 70, 71, 72, 73, 74, 75, 76, 77, 78, 79, 80, 81, 82, 83, 84, 85, 86, 87, 88, 89, 90, 91, 92, 93, 94, 95, 96, 97, 98, 99, 100, 101, 102, 103, 104, 105, 106, 107, 108, 109, 110, 111, 112, 113, 114, 115, 116, 117, 118, 119, 120, 121, 122, 123, 124, 125, 126, 127, 128, 129, 130, 131, 132, 133, 134, 135, 136, 137, 138, 139, 140, 141, 142, 143, 144, 145, 146, 147, 148, 149, 150, 151, 152, 153, 154, 155, 156, 157, 158, 159, 160, 161, 162, 163, 164, 165, 166, 167, 168, 169, 170, 171, 172, 173, 174, 175, 176, 177, 178, 179, 180, 181, 182, 183, 184, 185, 186, 187, 188, 189, 190, 191, 192, 193, 194, 195, 196, 197, 198, 199, 200, 201]\n",
      "\n",
      "\n",
      "\n",
      "O conjunto abaixo representa as linhas que produzem um determinado item, o item é a posição dentro do conjunto. A posição 10 representa o item 10 que pode ser feito nas linhas 2 e 3\n",
      "[[2], [2], [2], [2], [2], [2], [2], [2], [2], [2], [2, 3], [2], [2], [2], [2], [2], [2], [2], [1], [1], [1], [1, 2], [1], [1], [1], [1], [1], [1], [1], [1], [1], [1], [1], [1], [1], [1], [1], [1], [1], [1], [1], [1], [1], [1], [1], [1], [1], [1], [1], [1], [1], [1], [1], [1], [1], [1], [1], [1], [1], [1, 2, 3], [1], [1, 2, 3], [1], [1, 2, 3], [1, 2, 3], [1, 2, 3], [1, 3], [1], [1], [1, 3], [1], [4], [4], [4], [4], [4], [4], [4], [4], [4], [4], [4], [4], [4], [4], [4], [4], [4], [4], [4], [4], [4], [4], [4], [4], [4], [4], [4], [4], [4], [4], [4], [4], [4], [4], [4], [4], [4], [4], [4], [4], [4], [4], [4], [4], [4], [4], [4], [4], [4], [4], [4], [4], [4], [4], [4], [4], [4], [4], [4], [4], [4], [4], [4], [4], [4], [4], [4], [4], [4], [4], [4], [4], [4], [4], [4], [4], [4], [4], [4], [5], [5], [5], [5], [5], [5], [5], [5], [5], [5], [5], [5], [5], [5], [5], [5], [5], [5], [5], [5], [5], [5], [5], [5], [5], [5], [5], [5], [5], [5], [5], [5], [5], [5], [5], [5], [5], [5], [5], [5], [5], [5], [6], [6], [6], [6], [6], [6], [6], [6], [6]] 201\n"
     ]
    }
   ],
   "source": [
    "import pandas as pd\n",
    "\n",
    "read_itens = pd.read_csv(\"DadosBergamini2022/Instancia I/modelos.csv\")\n",
    "itens_list = read_itens['modelos'].tolist()\n",
    "\n",
    "lista_aux = []\n",
    "for i in range(1, len(itens_list)+1):\n",
    "    lista_aux.append(i)\n",
    "\n",
    "dict_aux = {}\n",
    "for keys in itens_list:\n",
    "    for values in lista_aux:\n",
    "        dict_aux[keys] = values\n",
    "        lista_aux.remove(values)\n",
    "        break\n",
    "\n",
    "read_mapa_modelo_linha = pd.read_csv(\"DadosBergamini2022/Instancia I/mapalinhamodelo.csv\")\n",
    "\n",
    "linhas = read_mapa_modelo_linha['linhas'].tolist()\n",
    "modelos_MLM = read_mapa_modelo_linha['modelos'].tolist()\n",
    "\n",
    "modelos_valor_numerico = []\n",
    "\n",
    "for i in modelos_MLM:\n",
    "    modelos_valor_numerico.append(dict_aux[i])\n",
    "\n",
    "\n",
    "subconjunto_linha_modelo = []\n",
    "\n",
    "for i in itens_list:\n",
    "    aux = []\n",
    "    subconjunto_linha_modelo.append(aux)\n",
    "\n",
    "contador = 0\n",
    "\n",
    "for i in modelos_valor_numerico:\n",
    "    subconjunto_linha_modelo[i-1].append(linhas[contador])\n",
    "    contador += 1\n",
    "\n",
    "\n",
    "print(\"linhas: \")\n",
    "print(linhas)\n",
    "print(\"\\n\\n\")\n",
    "print(\"itens: \")\n",
    "print(modelos_valor_numerico)\n",
    "print(\"\\n\\n\")\n",
    "print(\"O conjunto abaixo representa as linhas que produzem um determinado item, o item é a posição dentro do conjunto. A posição 10 representa o item 10 que pode ser feito nas linhas 2 e 3\")\n",
    "print(subconjunto_linha_modelo, len(subconjunto_linha_modelo))\n"
   ]
  },
  {
   "cell_type": "code",
   "execution_count": 2,
   "id": "ed4e75b3-cb68-4b0a-9c3b-8ebdcabc0355",
   "metadata": {},
   "outputs": [
    {
     "name": "stdout",
     "output_type": "stream",
     "text": [
      "    modelos  recursos  MapaModeloRecurso\n",
      "0      L001         1                  1\n",
      "1      L002         1                  1\n",
      "2      L003         1                  1\n",
      "3      L004         1                  1\n",
      "4      L005         1                  1\n",
      "..      ...       ...                ...\n",
      "196    C005        17                  1\n",
      "197    C006        17                  1\n",
      "198    C007        17                  1\n",
      "199    C008        17                  1\n",
      "200    C009        17                  1\n",
      "\n",
      "[201 rows x 3 columns]\n",
      "[[1, 2, 3, 4, 5, 6, 7, 8], [9, 10, 11, 12, 13, 14, 15, 16, 17, 18], [19, 20, 21, 22, 23, 24, 25], [26, 27, 28, 29, 30, 31, 32, 33, 34, 35, 36, 37, 38, 39, 40, 41, 42, 43, 44, 45, 46, 47, 48, 49, 50, 51, 52, 53, 54, 55, 56, 57, 58, 59], [60, 61, 62, 63, 64, 65, 66], [67, 68, 69, 70, 71], [72, 73, 74, 75, 76, 77, 78, 79, 80, 81, 82, 83, 84, 85], [86], [87, 88, 89, 90, 91, 92, 93, 94], [95, 96, 97, 98, 99, 100, 101, 102, 103], [104, 105, 106, 107], [108, 109, 110, 111, 112, 113], [114, 115, 116, 117, 118, 119, 120, 121, 122, 123, 124, 125, 126], [127], [128, 129, 130, 131, 132, 133, 134, 135, 136, 137, 138, 139, 140, 141, 142, 143, 144, 145, 146, 147, 148, 149, 150], [151, 152, 153, 154, 155, 156, 157, 158, 159, 160, 161, 162, 163, 164, 165, 166, 167, 168, 169, 170, 171, 172, 173, 174, 175, 176, 177, 178, 179, 180, 181, 182, 183, 184, 185, 186, 187, 188, 189, 190, 191, 192], [193, 194, 195, 196, 197, 198, 199, 200, 201]] 17\n"
     ]
    }
   ],
   "source": [
    "read_mapa_modelo_recurso = pd.read_csv(\"DadosBergamini2022/Instancia I/mapamodelorecurso.csv\")\n",
    "\n",
    "print(read_mapa_modelo_recurso)\n",
    "\n",
    "recursos_MMR = read_mapa_modelo_recurso['recursos'].tolist() \n",
    "modelos_MMR = read_mapa_modelo_recurso['modelos'].tolist()\n",
    "\n",
    "modelos_MMR_numerico = []\n",
    "\n",
    "for i in modelos_MMR:\n",
    "    modelos_MMR_numerico.append(dict_aux[i])\n",
    "\n",
    "subconjunto_recurso_modelo = []\n",
    "\n",
    "for i in range(max(recursos_MMR)):\n",
    "    aux = []\n",
    "    subconjunto_recurso_modelo.append(aux)\n",
    "\n",
    "contador = 0\n",
    "\n",
    "for r in recursos_MMR:\n",
    "    subconjunto_recurso_modelo[r-1].append(modelos_MMR_numerico[contador])\n",
    "    contador += 1\n",
    "\n",
    "print(subconjunto_recurso_modelo, len(subconjunto_recurso_modelo))"
   ]
  },
  {
   "cell_type": "code",
   "execution_count": null,
   "id": "3e43c689-dc3e-49fe-8647-fc3ccc6aa86e",
   "metadata": {},
   "outputs": [],
   "source": []
  },
  {
   "cell_type": "code",
   "execution_count": null,
   "id": "798f3589-8f70-448c-b5c4-58ca9485ff4e",
   "metadata": {},
   "outputs": [],
   "source": []
  }
 ],
 "metadata": {
  "kernelspec": {
   "display_name": "Python 3 (ipykernel)",
   "language": "python",
   "name": "python3"
  },
  "language_info": {
   "codemirror_mode": {
    "name": "ipython",
    "version": 3
   },
   "file_extension": ".py",
   "mimetype": "text/x-python",
   "name": "python",
   "nbconvert_exporter": "python",
   "pygments_lexer": "ipython3",
   "version": "3.10.12"
  }
 },
 "nbformat": 4,
 "nbformat_minor": 5
}
